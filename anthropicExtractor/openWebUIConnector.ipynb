{
 "cells": [
  {
   "cell_type": "code",
   "execution_count": null,
   "metadata": {},
   "outputs": [],
   "source": [
    "%pip install -U langchain-openai"
   ]
  },
  {
   "cell_type": "code",
   "execution_count": 8,
   "metadata": {},
   "outputs": [
    {
     "data": {
      "text/plain": [
       "\"The sky appears blue because of a phenomenon called Rayleigh scattering. This is the scattering of light by small particles or molecules in the atmosphere. When sunlight enters Earth's atmosphere, it encounters tiny molecules of gases such as nitrogen (N2) and oxygen (O2). These molecules scatter the light in all directions, but they scatter shorter (blue) wavelengths more than longer (red) wavelengths.\\n\\nThis is why the sky appears blue during the daytime, especially in the direction of the sun. The blue light is scattered in all directions, but our eyes see it more prominently in the sky because it is scattered in every direction. The blue light is scattered more than other colors because of its shorter wavelength, which is around 450-495 nanometers.\\n\\nAt sunrise and sunset, the sky can appear red or orange because the sun's rays have to travel longer distances through the atmosphere to reach our eyes. This means that the blue light is scattered away, and we see mainly the longer wavelengths of red and orange light.\\n\\nIt's worth noting that the color of the sky can also be affected by pollution, dust, and water vapor in the atmosphere, which can scatter light in different ways and change its color. However, the basic principle of Rayleigh scattering is responsible for the blue color of the sky under normal conditions.\""
      ]
     },
     "execution_count": 8,
     "metadata": {},
     "output_type": "execute_result"
    }
   ],
   "source": [
    "from langchain_openai import ChatOpenAI\n",
    "\n",
    "llm = ChatOpenAI(\n",
    "    openai_api_base=\"https://johnaic.pplus.ai/openai\",\n",
    "    api_key=\"MY_API_KEY\",\n",
    "    model_name=\"neuralmagic/Meta-Llama-3.1-8B-Instruct-FP8\",\n",
    ")\n",
    "\n",
    "llm.invoke(\"Why is the sky blue?\").content"
   ]
  },
  {
   "cell_type": "code",
   "execution_count": 5,
   "metadata": {},
   "outputs": [
    {
     "name": "stdout",
     "output_type": "stream",
     "text": [
      "{\"id\":\"chat-eff7fd99b5e8431a9b4d3bb2ae8f4082\",\"object\":\"chat.completion\",\"created\":1736249492,\"model\":\"neuralmagic/Meta-Llama-3.1-8B-Instruct-FP8\",\"choices\":[{\"index\":0,\"message\":{\"role\":\"assistant\",\"content\":\"The sky appears blue because of a phenomenon called Rayleigh scattering. Here's a simplified explanation:\\n\\n1. **Sunlight**: When the sun emits light, it sends out a wide range of colors, including all the colors of the visible spectrum (red, orange, yellow, green, blue, indigo, and violet). These colors have different wavelengths, with red light having the longest wavelength and violet light having the shortest wavelength.\\n\\n2. **Atmospheric particles**: When sunlight enters Earth's atmosphere, it encounters tiny molecules of gases such as nitrogen (N2) and oxygen (O2). These molecules are much smaller than the wavelength of light.\\n\\n3. **Scattering**: As sunlight interacts with these atmospheric particles, it is scattered in all directions. This scattering effect is more pronounced for shorter wavelengths, such as blue and violet light.\\n\\n4. **Blue light dominates**: Because blue light has a shorter wavelength (around 450-495 nanometers) than other colors, it is scattered more efficiently by the atmospheric particles. As a result, the blue light is dispersed in all directions, reaching our eyes from every part of the sky.\\n\\n5. **Our perception**: When we look at the sky, we see the blue light that has been scattered in our direction. This is why the sky appears blue during the day, especially in the direction of the sun.\\n\\nIt's worth noting that the exact shade of blue can vary depending on factors such as:\\n\\n- **Time of day**: The sky can appear more blue during the day when the sun is high in the sky and less blue during sunrise and sunset when the sun is lower in the sky.\\n- **Atmospheric conditions**: Pollution, dust, and water vapor in the atmosphere can scatter light in different ways, affecting the color of the sky.\\n- **Altitude**: The sky can appear more intense blue at higher altitudes due to the thinner atmosphere.\\n\\nI hope this explanation helps you understand why the sky is blue!\",\"tool_calls\":[]},\"logprobs\":null,\"finish_reason\":\"stop\",\"stop_reason\":null}],\"usage\":{\"prompt_tokens\":41,\"total_tokens\":439,\"completion_tokens\":398},\"prompt_logprobs\":null}"
     ]
    }
   ],
   "source": [
    "!curl -X 'POST' \\\n",
    "  'https://johnaic.pplus.ai/api/chat/completions' \\\n",
    "  -H 'accept: application/json' \\\n",
    "  -H 'Authorization: Bearer MY_API_KEY' \\\n",
    "  -H 'Content-Type: application/json' \\\n",
    "  -d '{\"model\": \"neuralmagic/Meta-Llama-3.1-8B-Instruct-FP8\", \"messages\": [{\"role\": \"user\", \"content\": \"Why is the sky blue?\"}]}'"
   ]
  }
 ],
 "metadata": {
  "kernelspec": {
   "display_name": "base",
   "language": "python",
   "name": "python3"
  },
  "language_info": {
   "codemirror_mode": {
    "name": "ipython",
    "version": 3
   },
   "file_extension": ".py",
   "mimetype": "text/x-python",
   "name": "python",
   "nbconvert_exporter": "python",
   "pygments_lexer": "ipython3",
   "version": "3.11.9"
  }
 },
 "nbformat": 4,
 "nbformat_minor": 2
}
